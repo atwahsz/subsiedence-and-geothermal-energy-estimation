{
 "cells": [
  {
   "cell_type": "markdown",
   "id": "64718e9d",
   "metadata": {},
   "source": [
    "$\\textbf{Easy geothermal energy production calculations, Based on lecture 1-flow DENIS VOSKOV}$"
   ]
  },
  {
   "cell_type": "code",
   "execution_count": 27,
   "id": "6cec0db3",
   "metadata": {},
   "outputs": [
    {
     "name": "stdout",
     "output_type": "stream",
     "text": [
      "   Res Temp = 73.56 degree C\n",
      "   Velocity = 0.018876463922394504 m/day\n",
      "   Lifetime = 116.11183275261322 years\n",
      "       Rate = 200 m3/day\n",
      "Pump energy = 1.179035321589145e-05 PJ\n",
      "Energy geoth = 0.022084030080000004 PJ/year\n"
     ]
    }
   ],
   "source": [
    "# Well PRC_7 [100,150]\n",
    "# 1 PJ = 1e12 kJ\n",
    "from math import pi\n",
    "import numpy as np\n",
    "import matplotlib.pyplot as plt\n",
    "\n",
    "day2sec = 86400\n",
    "prod_top = 1950  #[m] \n",
    "prod_bottom = 2050#[m] \n",
    "\n",
    "# PARAMETERS\n",
    "h = prod_bottom-prod_top # Reservoir height [m]\n",
    "k = 400.37e-15                                               # Reservoir Permeability [mD]\n",
    "phi = 0.27                                                # Porosity from log\n",
    "T_inj = 15                                                # Injection tempareture [C] \n",
    "T_ini = 346.56 - 273 # Reservoir temperature [C] \n",
    "rho_w = 1230          # Brine density [kg/m3]\n",
    "rho_r = 2197          # Reservoir denisity from log [kg/m3]\n",
    "C_w = 4.2             # thermal capacity Brine [kJ/kg/C]\n",
    "C_r = 0.8532          # thermal capacity rock [kJ/kg/C]\n",
    "\n",
    "mu = 8.9e-4           # Brine viscosity\n",
    "rw = 0.15             # well radius [m]\n",
    "l = 800              # well seperation distance [m]\n",
    "nu = 0.4              # Pump efficiency [.]\n",
    "\n",
    "\n",
    "# Choose either energy wanted per year or choose rate per day.\n",
    "#energy_per_year = 0.1 * 1e15 # Energy wanted PJ to J\n",
    "Q = 200  # Rate m3/day\n",
    "\n",
    "\n",
    "dt = 365 \n",
    "\n",
    "#Q =  energy_per_year /  ( rho_w * C_w * (T_ini-T_inj) * 1e3) / dt      # well rate m3/day\n",
    "\n",
    "E = rho_w * C_w * (T_ini-T_inj) * Q * dt  #energy production kJ/year\n",
    "\n",
    "\n",
    "WI = 2 * np.pi * k * h / (mu* np.log (l / (2 * rw)))  # Well index \n",
    "\n",
    "dp = Q / WI /day2sec   # pressure drop in kPa\n",
    "\n",
    "A = h *l / 2  # m2, assumption: the area is divided in two\n",
    "\n",
    "v = rho_w* C_w * Q / (rho_r * C_r * (1 - phi) * A ) # velocity m/day\n",
    "\n",
    "lt = l / v  /365                       # Lifetime in years\n",
    "\n",
    "Ep = Q * dp / day2sec /  nu / 1000     # pumpimg energy in KJ/sec\n",
    "\n",
    "convert = day2sec * 365 * 1e-12 # KJ/sec to PJ/year\n",
    "\n",
    "\n",
    "print('   Res Temp = ' + str(T_ini)  + ' degree C')\n",
    "print('   Velocity = ' + str(v)  + ' m/day')\n",
    "print('   Lifetime = ' + str(lt) + ' years')\n",
    "print('       Rate = ' + str(Q)  + ' m3/day')\n",
    "print('Pump energy = ' + str(Ep*convert) + ' PJ')\n",
    "print('Energy geoth = ' + str(E*1e-12) + ' PJ/year')\n"
   ]
  },
  {
   "cell_type": "code",
   "execution_count": 22,
   "id": "ec171430",
   "metadata": {},
   "outputs": [],
   "source": [
    "# Plotting the equations with different parameters:\n",
    "font = {'family': 'serif',\n",
    "        'color':  'darkred',\n",
    "        'weight': 'normal',\n",
    "        'size': 16,\n",
    "        }\n",
    "\n",
    "def lifetime(l, rho_w, C_w, Q, rho_r, C_r, phi, A):\n",
    "    \n",
    "    WI = 2 * np.pi * k * h / (mu* np.log (l / (2 * rw)))  # Well index \n",
    "\n",
    "    dp = Q / WI /day2sec   # pressure drop in kPa\n",
    "\n",
    "    A = h *l / 2  # m2, assumption: the area is divided in two\n",
    "\n",
    "    v = rho_w* C_w * Q / (rho_r * C_r * (1 - phi) * A ) # velocity m/day\n",
    "\n",
    "    lt = l / v  /365                       # Lifetime in years\n",
    "\n",
    "    Ep = Q * dp / day2sec /  nu / 1000     # pumpimg energy in KJ/sec\n",
    "\n",
    "    return lt\n"
   ]
  },
  {
   "cell_type": "code",
   "execution_count": 23,
   "id": "6cc2d36c",
   "metadata": {},
   "outputs": [
    {
     "data": {
      "image/png": "[encoded data removed]",
      "text/plain": [
       "<Figure size 432x288 with 1 Axes>"
      ]
     },
     "metadata": {
      "needs_background": "light"
     },
     "output_type": "display_data"
    }
   ],
   "source": [
    "l = np.linspace(1,500,501) \n",
    "\n",
    "for i in range(len(l)):\n",
    "    Lifetime = lifetime(l, rho_w, C_w, Q, rho_r, C_r, phi, A)\n",
    "\n",
    "    \n",
    "    \n",
    "plt.figure()\n",
    "plt.plot(l, Lifetime,'r')\n",
    "plt.title('Lifetime vs speration length', fontdict=font)\n",
    "plt.xlabel('distance [m]', fontdict=font)\n",
    "plt.ylabel('Lifetime [yrs]', fontdict=font)\n",
    "plt.show()"
   ]
  },
  {
   "cell_type": "code",
   "execution_count": null,
   "id": "e9ac0ca5",
   "metadata": {},
   "outputs": [],
   "source": [
    "def lifetime_2(l, rho_w, C_w, energy_per_year, rho_r, C_r, phi, A):\n",
    "    \n",
    "    Q =  energy_per_year /  ( rho_w * C_w * (T_ini-T_inj) * 1e3) / dt      # well rate m3/day\n",
    "    \n",
    "    WI = 2 * np.pi * k * h / (mu* np.log (l / (2 * rw)))  # Well index \n",
    "\n",
    "    dp = Q / WI /day2sec   # pressure drop in kPa\n",
    "\n",
    "    A = h *l / 2  # m2, assumption: the area is divided in two\n",
    "\n",
    "    v = rho_w* C_w * Q / (rho_r * C_r * (1 - phi) * A ) # velocity m/day\n",
    "\n",
    "    lt = l / v  /365                       # Lifetime in years\n",
    "\n",
    "    Ep = Q * dp / day2sec /  nu / 1000     # pumpimg energy in KJ/sec\n",
    "\n",
    "    return lt\n"
   ]
  },
  {
   "cell_type": "code",
   "execution_count": 28,
   "id": "4d233fab",
   "metadata": {},
   "outputs": [
    {
     "data": {
      "image/png": "[encoded data removed]",
      "text/plain": [
       "<Figure size 432x288 with 1 Axes>"
      ]
     },
     "metadata": {
      "needs_background": "light"
     },
     "output_type": "display_data"
    }
   ],
   "source": [
    "l = 200\n",
    "energy_per_year = np.linspace(0.05 * 1e15,1 * 1e15, 1000)\n",
    "\n",
    "for i in range(len(energy_per_year)):\n",
    "    Lifetime_2 = lifetime_2(l, rho_w, C_w, energy_per_year, rho_r, C_r, phi, A)\n",
    "\n",
    "    \n",
    "    \n",
    "plt.figure()\n",
    "plt.plot(energy_per_year, Lifetime_2,'r')\n",
    "plt.title('Lifetime vs energy_per_year', fontdict=font)\n",
    "plt.xlabel('energy_per_year [PJ/yr]', fontdict=font)\n",
    "plt.ylabel('Lifetime [yrs]', fontdict=font)\n",
    "plt.show()"
   ]
  },
  {
   "cell_type": "code",
   "execution_count": null,
   "id": "d81293ab",
   "metadata": {},
   "outputs": [],
   "source": []
  }
 ],
 "metadata": {
  "kernelspec": {
   "display_name": "Python 3",
   "language": "python",
   "name": "python3"
  },
  "language_info": {
   "codemirror_mode": {
    "name": "ipython",
    "version": 3
   },
   "file_extension": ".py",
   "mimetype": "text/x-python",
   "name": "python",
   "nbconvert_exporter": "python",
   "pygments_lexer": "ipython3",
   "version": "3.8.8"
  }
 },
 "nbformat": 4,
 "nbformat_minor": 5
}
