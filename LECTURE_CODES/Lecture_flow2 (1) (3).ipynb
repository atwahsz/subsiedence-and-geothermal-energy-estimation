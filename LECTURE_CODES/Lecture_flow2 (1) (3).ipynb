{
 "cells": [
  {
   "cell_type": "markdown",
   "metadata": {},
   "source": [
    "<img style=\"float: left;\" src=\"Lecture_flow1/Slide1.PNG\" width=\"100%\">"
   ]
  },
  {
   "cell_type": "markdown",
   "metadata": {},
   "source": [
    "<img style=\"float: left;\" src=\"Lecture_flow1/Slide2.PNG\" width=\"100%\">"
   ]
  },
  {
   "cell_type": "markdown",
   "metadata": {},
   "source": [
    "<img style=\"float: left;\" src=\"Lecture_flow1/Slide3.PNG\" width=\"100%\">"
   ]
  },
  {
   "cell_type": "markdown",
   "metadata": {},
   "source": [
    "<img style=\"float: left;\" src=\"Lecture_flow1/Slide4.PNG\" width=\"100%\">"
   ]
  },
  {
   "cell_type": "markdown",
   "metadata": {},
   "source": [
    "<img style=\"float: left;\" src=\"Lecture_flow1/Slide5.PNG\" width=\"100%\">"
   ]
  },
  {
   "cell_type": "markdown",
   "metadata": {},
   "source": [
    "<img style=\"float: left;\" src=\"Lecture_flow1/Slide6.PNG\" width=\"100%\">"
   ]
  },
  {
   "cell_type": "markdown",
   "metadata": {},
   "source": [
    "<img style=\"float: left;\" src=\"Lecture_flow1/Slide7.PNG\" width=\"100%\">"
   ]
  },
  {
   "cell_type": "markdown",
   "metadata": {},
   "source": [
    "<img style=\"float: left;\" src=\"Lecture_flow1/Slide8.PNG\" width=\"100%\">"
   ]
  },
  {
   "cell_type": "code",
   "execution_count": 1,
   "metadata": {},
   "outputs": [],
   "source": [
    "def props(component, params):\n",
    "    properties = [[\"C1\",    \"CO2\",   \"N2\",    \"H2S\",   \"C2\",    \"C3\",   \"H2\"],      # component\n",
    "                  [190.58,  304.10,  126.20,  373.53,  305.32,  369.8,  33.25],     # T_c [K]\n",
    "                  [46.04,   73.75,   34.00,   89.63,   48.72,   42.45,  12.97],     # p_c [bar]\n",
    "                  [0.012,   0.239,   0.0377,  0.0942,  0.0995,  0.1524, -0.220],    # acentric factor [-]\n",
    "                  [16.043,  44.01,   28.013,  34.076,  30.07,   44.097, 2.01594],   # molecular mass [g/mol]\n",
    "                  [0.28473, 0.27408, 0.29115, 0.28195, 0.28463, 0.27616, 0.304]]    # critical compressibility factors\n",
    "    \n",
    "    name = [\"Tc\", \"Pc\", \"ac\", \"Mw\", \"Zc\"]\n",
    "    index1 = name.index(params) + 1\n",
    "    index2 = properties[0][:].index(component)\n",
    "    c = properties[index1][index2]\n",
    "\n",
    "    return c\n",
    "\n",
    "\n",
    "def binary(component, components):\n",
    "    # binary interaction parameters for CH4, CO2 ...    \n",
    "    # from Aspen plus (DOI 10.1016/j.fluid.2016.06.012)\n",
    "    dij = [[\"CO2\",    \"C1\",    \"N2\",    \"H2S\",    \"C2\", \"C3\",  \"H2\"],  \n",
    "           [ 0,       0.100,  -0.017,   0.0974,   0.1,  0.1,   0.1 ],\n",
    "           [ 0.100,   0,       0.0311,  0.0503,   0,     0,    0.1 ],\n",
    "           [-0.017,   0.0311,  0,       0.1767,   0.1,   0.1,  0.01],\n",
    "           [ 0.0974,  0.0503,  0.1767,  0,        0.05,  0.05, 0.1 ],\n",
    "           [ 0.1,     0,       0.1,     0.05,     0,     0,    0.1 ],\n",
    "           [ 0.1,     0,       0.1,     0.05,     0,     0,    0.1 ],\n",
    "           [ 0.1,   0.1,       0.01,    0.1,      0.1,   0.1,  0   ]]  \n",
    "\n",
    "    d = []\n",
    "    index1 = dij[0].index(component) + 1\n",
    "    for c in components:\n",
    "        index2 = dij[0].index(c)\n",
    "        d.append(dij[index1][index2])\n",
    "        \n",
    "    return d"
   ]
  },
  {
   "cell_type": "code",
   "execution_count": 2,
   "metadata": {},
   "outputs": [],
   "source": [
    "def vapour_compress(p, T, x, components):\n",
    "    # Peng-Robinson EoS\n",
    "    NC = np.size(x)\n",
    "    R = 8.3145E-5\n",
    "\n",
    "    b = 0\n",
    "    ai = np.zeros(NC)\n",
    "    for i in range(0, np.size(ai)):\n",
    "        Tc = props(components[i], \"Tc\")\n",
    "        Pc = props(components[i], \"Pc\")\n",
    "        ac = props(components[i], \"ac\")\n",
    "        m = 0.37464 + 1.54226 * ac - 0.26992 * ac**2\n",
    "        alpha = (1 + m * (1 - np.sqrt(T / Tc)))**2\n",
    "        ai[i] = 0.45724 * R**2 * Tc**2 * alpha / Pc\n",
    "        b += 0.0778 * R * Tc / Pc * x[i]\n",
    "\n",
    "    a = 0\n",
    "    for i in range(0, NC):\n",
    "        d = binary(components[i], components)\n",
    "        for j in range(0, NC):            \n",
    "            aij = np.sqrt(ai[i] * ai[j]) * (1-d[j])\n",
    "            a += aij * x[i] * x[j]\n",
    "\n",
    "    A = a * p / (R**2 * T**2)\n",
    "    B = b * p / (R * T)\n",
    "\n",
    "    # solve for compressibility Z\n",
    "    Z = np.roots([1, -(1-B), A-3*B**2-2*B, -(A*B-B**2-B**3)])  \n",
    "\n",
    "    # if 3 real roots, take max\n",
    "    if np.sum(np.imag(Z) == 0) == 1:\n",
    "        index = np.nonzero(np.imag(Z) == 0)  # find real root\n",
    "        Z_out = np.real(Z[index])   # Z reduces to only the real root\n",
    "        phi_c = np.zeros(NC)\n",
    "    else:\n",
    "        Z_out = np.amax(Z)\n",
    "\n",
    "    return Z_out"
   ]
  },
  {
   "cell_type": "markdown",
   "metadata": {},
   "source": [
    "## <span style=\"color:red\">Exercise 1:  Compressibility graph</span>"
   ]
  },
  {
   "cell_type": "markdown",
   "metadata": {},
   "source": [
    "#### Plot graph of compressibility Z vs. normal pressure for:\n",
    " * Pure methane\n",
    " * Mixture of methane (85%), ethane (10%) and carbon dioxide (5%)\n",
    "  #### at 3 temperatures T = 30, 60 and 90 C"
   ]
  },
  {
   "cell_type": "code",
   "execution_count": 3,
   "metadata": {},
   "outputs": [
    {
     "name": "stderr",
     "output_type": "stream",
     "text": [
      "C:\\Users\\HSpaa\\anaconda3\\lib\\site-packages\\numpy\\core\\_asarray.py:171: VisibleDeprecationWarning: Creating an ndarray from ragged nested sequences (which is a list-or-tuple of lists-or-tuples-or ndarrays with different lengths or shapes) is deprecated. If you meant to do this, you must specify 'dtype=object' when creating the ndarray.\n",
      "  return array(a, dtype, copy=False, order=order, subok=True)\n"
     ]
    },
    {
     "data": {
      "image/png": "[encoded data removed]",
      "text/plain": [
       "<Figure size 432x288 with 1 Axes>"
      ]
     },
     "metadata": {
      "needs_background": "light"
     },
     "output_type": "display_data"
    }
   ],
   "source": [
    "import numpy as np\n",
    "import matplotlib.pyplot as plt\n",
    "\n",
    "comp = ['C1']\n",
    "y = [1.0]\n",
    "\n",
    "t_conv = 273 # kelvin\n",
    "t_list = [30 + t_conv, 60 + t_conv, 90 + t_conv]\n",
    "\n",
    "for t in t_list:\n",
    "    zz = []\n",
    "    pp = []\n",
    "\n",
    "    for p in range(1, 800):\n",
    "        z = vapour_compress(p, t, y, comp)\n",
    "        pp.append(p)\n",
    "        zz.append(z)\n",
    "        \n",
    "    plt.plot(pp, zz)\n",
    "\n",
    "### your code here ###\n",
    "\n",
    "comp = ['C1', 'C2', 'CO2']\n",
    "y = [0.85, 0.1, 0.05]\n",
    "\n",
    "for t in t_list:\n",
    "    zz = []\n",
    "    pp = []\n",
    "\n",
    "    for p in range(1, 800):\n",
    "        z = vapour_compress(p, t, y, comp)\n",
    "        pp.append(p)\n",
    "        zz.append(z)\n",
    "        \n",
    "    plt.plot(pp, zz, linestyle=':')\n"
   ]
  },
  {
   "cell_type": "markdown",
   "metadata": {},
   "source": [
    "<img style=\"float: left;\" src=\"Lecture_flow1/Slide10.PNG\" width=\"100%\">"
   ]
  },
  {
   "cell_type": "markdown",
   "metadata": {},
   "source": [
    "## <span style=\"color:red\">Exercise 2: Compute pressure changes</span>"
   ]
  },
  {
   "cell_type": "markdown",
   "metadata": {},
   "source": [
    "#### Consider gas production from reservoir contained mixture from Exercise 1:\n",
    " * Depth of reservoir: 2000 m\n",
    " * Area of reservoir: 1 by 3 km \n",
    " * Tickness of reservoir: 100 m\n",
    " * Initial pressure: 200 bars\n",
    " * Porosity: 20%\n",
    " * Rock compressibility: $10^{-5}$ 1/bar\n",
    " * Yearly gas demand: 300 Mm$^3$\n",
    " \n",
    "#### Compute pressure in the reservoir after 10 years of production"
   ]
  },
  {
   "cell_type": "code",
   "execution_count": 4,
   "metadata": {},
   "outputs": [],
   "source": [
    "rock_compr = 1e-5\n",
    "\n",
    "def calculate_rho_gas(p, temp, comp, y):\n",
    "    R = 8.1345e-1 # J/K/mol\n",
    "    M = 0\n",
    "    for i in range(len(comp)):\n",
    "        M += props(comp[i], 'Mw') * y[i]\n",
    "    Z = vapour_compress(p, temp, y, comp)\n",
    "    rho_gas = M * p / (Z * R * temp)\n",
    "    return rho_gas\n",
    "   \n",
    "def calculate_poro(p):\n",
    "    phi_ref = 0.2\n",
    "    pref = 1\n",
    "    phi = phi_ref * (1 + rock_compr * (p - pref))\n",
    "    return phi\n",
    "\n",
    "def calculate_dphi_drho(p, t, comp, y):\n",
    "    h = 1e-4\n",
    "    dphi_drho = ((calculate_poro(p+h) * calculate_rho_gas(p+h, t, comp, y)) - (calculate_poro(p) * calculate_rho_gas(p, t, comp, y))) / h\n",
    "                \n",
    "    return dphi_drho    "
   ]
  },
  {
   "cell_type": "code",
   "execution_count": 5,
   "metadata": {
    "scrolled": true
   },
   "outputs": [
    {
     "name": "stdout",
     "output_type": "stream",
     "text": [
      "[145.02663269]\n"
     ]
    },
    {
     "data": {
      "image/png": "[encoded data removed]",
      "text/plain": [
       "<Figure size 432x288 with 1 Axes>"
      ]
     },
     "metadata": {
      "needs_background": "light"
     },
     "output_type": "display_data"
    }
   ],
   "source": [
    "depth = 2000\n",
    "p_0 = 200 # bar\n",
    "temp_sc = 288\n",
    "\n",
    "comp = ['C1']\n",
    "y = [1.0]\n",
    "\n",
    "temp = temp_sc + 60\n",
    "\n",
    "X = 3000\n",
    "Y = 1000\n",
    "h = 100\n",
    "\n",
    "volume = X*Y*h\n",
    "gas_extracted_surf = 300e6 # que putas???\n",
    "\n",
    "year = 0\n",
    "p_vec = [p_0]\n",
    "t_vec = [0]\n",
    "p = p_0\n",
    "\n",
    "dt = 0.1\n",
    "\n",
    "gas_extracted_mass = dt * gas_extracted_surf * calculate_rho_gas(1, temp_sc, comp, y)\n",
    "\n",
    "for year in np.arange(0, 10, dt):\n",
    "\n",
    "    ### Your code here ###\n",
    "    dphi_drho = calculate_dphi_drho(p, temp, comp, y)\n",
    "    pn = p - gas_extracted_mass / volume / dphi_drho\n",
    "    \n",
    "    t_vec.append(year)\n",
    "    p_vec.append(pn)\n",
    "    p = pn\n",
    "    \n",
    "print(p)\n",
    "\n",
    "plt.plot(t_vec, p_vec, 'red', linewidth=2)\n",
    "plt.xlabel('Time, years')\n",
    "plt.ylabel('Pressure, bars')\n",
    "plt.show()"
   ]
  },
  {
   "cell_type": "markdown",
   "metadata": {},
   "source": [
    "<img style=\"float: left;\" src=\"Lecture_flow1/Slide12.PNG\" width=\"100%\">"
   ]
  },
  {
   "cell_type": "markdown",
   "metadata": {},
   "source": [
    "<img style=\"float: left;\" src=\"Lecture_flow1/Slide14.PNG\" width=\"100%\">"
   ]
  },
  {
   "cell_type": "markdown",
   "metadata": {},
   "source": [
    "## <span style=\"color:red\">Exercise 3: Compute pressure and gas saturation </span>"
   ]
  },
  {
   "cell_type": "markdown",
   "metadata": {},
   "source": [
    "#### Consider CO2 injection to water reservoir\n",
    " * Depth of reservoir: 1500 m\n",
    " * Area of reservoir: 4 by 4 km \n",
    " * Tickness of reservoir: 200 m\n",
    " * Initial pressure: 150 bars\n",
    " * Porosity: 20%\n",
    " * Rock compressibility: $10^{-5}$ 1/bar\n",
    " * Yearly CO2 rate: 100 Mm$^3$\n",
    " * Average uplift limit: 20 cm\n",
    " \n",
    "#### Compute lifetime of the storage project"
   ]
  },
  {
   "cell_type": "code",
   "execution_count": 6,
   "metadata": {},
   "outputs": [],
   "source": [
    "water_compr = 1e-5 # 1/bars\n",
    "\n",
    "def calculate_rho_water(p):   # I input 6\n",
    "    rhow_0 = 1000/18 # molar density of water at sc\n",
    "    p0 = 1\n",
    "    pho_water = ((p-p0)*rhow_0)*water_compr\n",
    "    return pho_water\n",
    "\n",
    "def calculate_dphi_drho_w(p):     # I input 11\n",
    "    h = 1e-4\n",
    "    dphi_drho = ((calculate_poro(p+h) * calculate_rho_water(p+h)) - (calculate_poro(p) * calculate_rho_water(p))) / h\n",
    "    return dphi_drho\n",
    "\n",
    "def calculate_dphi_drho_g(p, t, comp, y): # I input line 16\n",
    "    h = 1e-4\n",
    "    dphi_drho = ((calculate_poro(p+h) * calculate_rho_gas(p+h, t, comp, y)) - (calculate_poro(p) * calculate_rho_gas(p, t, comp, y))) / h\n",
    "    return dphi_drho"
   ]
  },
  {
   "cell_type": "code",
   "execution_count": null,
   "metadata": {
    "scrolled": true
   },
   "outputs": [],
   "source": [
    "import numpy as np\n",
    "\n",
    "therm_grad = 0.04 # own input degree/m\n",
    "depth = 1500\n",
    "temp_sc = 288\n",
    "p_0 = 150\n",
    "\n",
    "comp = ['CO2']\n",
    "y = [1.0]\n",
    "\n",
    "temp = temp_sc + therm_grad*depth # I added therm_grad\n",
    "\n",
    "X = 4000\n",
    "Y = 4000\n",
    "h = 200\n",
    "\n",
    "volume = X*Y*h\n",
    "gas_extracted_surf = 100e6\n",
    "\n",
    "year = 0\n",
    "p_vec = [p_0]\n",
    "t_vec = [0]\n",
    "s_vec = [0]\n",
    "p = p_0\n",
    "s = 0\n",
    "\n",
    "dt = 0.1\n",
    "\n",
    "uplift = 0.0\n",
    "\n",
    "gas_mass = # maybe: gas_extracted_surf * calculate_rho_gas(1, temp_sc, comp, y) \n",
    "\n",
    "while uplift < 0.2:    \n",
    "    dphi_drho = calculate_dphi_drho_g(p, temp, comp, y) # I added this one\n",
    "    pn = # fill this in maybe: p - gas_extracted_mass / volume / dphi_drho\n",
    "\n",
    "    sn = \n",
    "        \n",
    "    year += dt\n",
    "    t_vec.append(year)\n",
    "    p_vec.append(pn)\n",
    "    s_vec.append(sn)\n",
    "    \n",
    "    p = pn\n",
    "    s = sn\n",
    "    \n",
    "print(p)\n",
    "print(year)\n",
    "\n",
    "import matplotlib.pyplot as plt\n",
    "\n",
    "plt.figure(num=2, figsize=(12,4))\n",
    "plt.subplot(121)\n",
    "plt.plot(t_vec, p_vec, 'red', linewidth=2)\n",
    "plt.xlabel('Time, years')\n",
    "plt.ylabel('Pressure, bars')\n",
    "plt.subplot(122)\n",
    "plt.plot(t_vec, s_vec, 'red', linewidth=2)\n",
    "plt.xlabel('Time, years')\n",
    "plt.ylabel('Saturation')\n",
    "\n",
    "plt.show()"
   ]
  },
  {
   "cell_type": "markdown",
   "metadata": {},
   "source": [
    "<img style=\"float: left;\" src=\"Lecture_flow1/Slide15.PNG\" width=\"100%\">"
   ]
  },
  {
   "cell_type": "markdown",
   "metadata": {},
   "source": [
    "<img style=\"float: left;\" src=\"Lecture_flow1/Slide16.PNG\" width=\"100%\">"
   ]
  },
  {
   "cell_type": "code",
   "execution_count": null,
   "metadata": {},
   "outputs": [],
   "source": []
  }
 ],
 "metadata": {
  "kernelspec": {
   "display_name": "Python 3",
   "language": "python",
   "name": "python3"
  },
  "language_info": {
   "codemirror_mode": {
    "name": "ipython",
    "version": 3
   },
   "file_extension": ".py",
   "mimetype": "text/x-python",
   "name": "python",
   "nbconvert_exporter": "python",
   "pygments_lexer": "ipython3",
   "version": "3.8.8"
  }
 },
 "nbformat": 4,
 "nbformat_minor": 4
}
